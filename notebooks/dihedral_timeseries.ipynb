{
 "cells": [
  {
   "cell_type": "code",
   "execution_count": null,
   "id": "41262134",
   "metadata": {},
   "outputs": [],
   "source": [
    "# Standard libraries\n",
    "import sys, os\n",
    "import glob\n",
    "from typing import Iterable\n",
    "import weakref\n",
    "\n",
    "# Third party libraries\n",
    "import matplotlib\n",
    "import matplotlib.pyplot as plt\n",
    "from matplotlib.colors import ListedColormap\n",
    "import numpy as np\n",
    "import pandas as pd\n",
    "import tqdm"
   ]
  },
  {
   "cell_type": "code",
   "execution_count": null,
   "id": "6d642557",
   "metadata": {},
   "outputs": [],
   "source": [
    "df = pd.read_csv(\"../5peptides/ggTPOgg/analy/dihedrals.csv\", index_col=\"#Frame\")\n",
    "phi = np.array(df[\"TPO:4:phi\"])\n",
    "\n",
    "fig, ax = plt.subplots(1,1, figsize=(5,2), dpi=300)\n",
    "\n",
    "fig.patch.set_alpha(0)\n",
    "ax.set_title(\"$\\Phi$(TPO:4)\")\n",
    "ax.grid(True, \"both\", \"y\", linewidth=.5, alpha=.5, linestyle=\":\")\n",
    "ax.plot(np.arange(.02, .02 * phi.size + .01, .02),  np.sin(phi), label=\"$sin(\\Phi)$\",\n",
    "        marker='s', markersize=.5, linewidth=.11, color=\"k\")\n",
    "ax.plot(np.arange(.02, .02 * phi.size + .01, .02),  np.cos(phi), label=\"$cos(\\Phi)$\",\n",
    "        marker='s', markersize=.5, linewidth=.11, color=\"r\")\n",
    "ax.legend(loc=\"lower right\")\n",
    "\n",
    "ax.set_xlim([0,6])\n",
    "ax.set_xlabel(\"time [ns]\")\n",
    "ax.set_ylabel(\"$sin(\\Phi)$ | $cos(\\Phi)$\")\n",
    "fig.savefig(\"ggTPOgg_timseries.png\", dpi=300, bbox_inches=\"tight\")"
   ]
  },
  {
   "cell_type": "markdown",
   "id": "7fea990e-ec4e-4c54-abf7-8854f0396e85",
   "metadata": {},
   "source": [
    "## Circular variance"
   ]
  },
  {
   "cell_type": "code",
   "execution_count": null,
   "id": "f46cc218-2d6c-4765-b813-c7f600977f52",
   "metadata": {},
   "outputs": [],
   "source": [
    "def circvar(*theta: Iterable[float]) -> float:\n",
    "    \"\"\"Calculate the circualr variance from dihedral values\"\"\"\n",
    "    n = len(theta[0])\n",
    "    assert all(len(th) == n for th in theta)\n",
    "    rsq = np.sum([np.sum(f(th)) ** 2 for th in theta for f in (np.cos, np.sin)])\n",
    "    rsq /= len(theta)\n",
    "    return 1 - np.sqrt(rsq) / n\n",
    "\n",
    "def calculate_circvar(dihedrals_file: str): \n",
    "    \n",
    "    df = pd.read_csv(dihedrals_file)\n",
    "    residues = []\n",
    "    for col in df.columns:\n",
    "        if not col.endswith(\"phi\"): continue\n",
    "        resn, resi, _ = col.split(\":\")\n",
    "        residues.append((resn, int(resi)))\n",
    "    residues.sort(key=lambda t: t[1])\n",
    "\n",
    "    rows = []\n",
    "    for resn, resi in residues:\n",
    "        phi = np.radians(df[f\"{resn}:{resi}:phi\"])\n",
    "        psi = np.radians(df[f\"{resn}:{resi}:psi\"])\n",
    "        rows.append([resi, resn, circvar(phi, psi)])\n",
    "\n",
    "    return pd.DataFrame(rows, columns=[\"#ResIndex\", \"ResName\", \"CV\"])"
   ]
  },
  {
   "cell_type": "code",
   "execution_count": null,
   "id": "865e21b4-2c19-4e67-8a29-0d1667413f23",
   "metadata": {},
   "outputs": [],
   "source": [
    "for dihedrals_file in tqdm.tqdm(glob.glob(\"../6peptides/gg*/analy/dihedrals.csv\")):\n",
    "    df = calculate_circvar(dihedrals_file)\n",
    "    with open(os.path.join(os.path.dirname(dihedrals_file), \"circvar.csv\"), \"w\") as fhandle:\n",
    "        df.to_csv(fhandle, float_format=\"%.6f\", index=False)"
   ]
  },
  {
   "cell_type": "code",
   "execution_count": null,
   "id": "ae7c1f92-e2c0-4904-bd30-835927962e28",
   "metadata": {},
   "outputs": [],
   "source": [
    "for dihedrals_file in tqdm.tqdm(glob.glob(\"../7peptides/gg*/analy/dihedrals.csv\")):\n",
    "    df = calculate_circvar(dihedrals_file)\n",
    "    with open(os.path.join(os.path.dirname(dihedrals_file), \"circvar.csv\"), \"w\") as fhandle:\n",
    "        df.to_csv(fhandle, float_format=\"%.6f\", index=False)"
   ]
  },
  {
   "cell_type": "code",
   "execution_count": null,
   "id": "c918e3cf-0ea2-4b7f-8728-9bcee10521a1",
   "metadata": {},
   "outputs": [],
   "source": [
    "for dihedrals_file in tqdm.tqdm(glob.glob(\"../8peptides/gg*/analy/dihedrals.csv\")):\n",
    "    df = calculate_circvar(dihedrals_file)\n",
    "    with open(os.path.join(os.path.dirname(dihedrals_file), \"circvar.csv\"), \"w\") as fhandle:\n",
    "        df.to_csv(fhandle, float_format=\"%.6f\", index=False)"
   ]
  },
  {
   "cell_type": "code",
   "execution_count": null,
   "id": "9c0d9c7f-f60b-4321-88bd-5bd48d9d2193",
   "metadata": {},
   "outputs": [],
   "source": [
    "for dihedrals_file in tqdm.tqdm(glob.glob(\"../9peptides/gg*/analy/dihedrals.csv\")):\n",
    "    df = calculate_circvar(dihedrals_file)\n",
    "    with open(os.path.join(os.path.dirname(dihedrals_file), \"circvar.csv\"), \"w\") as fhandle:\n",
    "        df.to_csv(fhandle, float_format=\"%.6f\", index=False)"
   ]
  }
 ],
 "metadata": {
  "kernelspec": {
   "display_name": "Python 3 (ipykernel)",
   "language": "python",
   "name": "python3"
  },
  "language_info": {
   "codemirror_mode": {
    "name": "ipython",
    "version": 3
   },
   "file_extension": ".py",
   "mimetype": "text/x-python",
   "name": "python",
   "nbconvert_exporter": "python",
   "pygments_lexer": "ipython3",
   "version": "3.10.4"
  }
 },
 "nbformat": 4,
 "nbformat_minor": 5
}
