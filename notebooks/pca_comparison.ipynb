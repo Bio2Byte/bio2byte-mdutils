{
 "cells": [
  {
   "cell_type": "code",
   "execution_count": null,
   "id": "8114638b",
   "metadata": {},
   "outputs": [],
   "source": [
    "import glob\n",
    "\n",
    "import matplotlib.pyplot as plt\n",
    "import numpy as np\n",
    "import pandas as pd\n",
    "\n",
    "#from pytrr import GroTrrReader\n",
    "%matplotlib inline"
   ]
  },
  {
   "cell_type": "code",
   "execution_count": null,
   "id": "e4ca2dd4",
   "metadata": {},
   "outputs": [],
   "source": [
    "def read_eigenvec_trr(eigenvec_trr):\n",
    "    with GroTrrReader(eigenvec_trr) as trr:\n",
    "        header, data = trr.read_frame(read_data=True) \n",
    "        natoms = 3 * header['natoms']\n",
    "        eigvec = np.zeros((natoms, natoms))\n",
    "        eigval = np.zeros((natoms, ))\n",
    "        while True:\n",
    "            try:\n",
    "                header, data = trr.read_frame(read_data=True)\n",
    "            except EOFError:\n",
    "                break\n",
    "            else:\n",
    "                i = header[\"step\"] - 1\n",
    "                if i >= 0:\n",
    "                    eigvec[i] = data['x'].flatten()                \n",
    "                    eigval[i] = header[\"time\"]\n",
    "    return eigvec, eigval\n",
    "\n",
    "eigenv = {}\n",
    "for directory in glob.glob(\"./6peptides/gg*gg\"):\n",
    "    peptide = directory.split(\"/\")[-1]\n",
    "    eigenv[peptide] = read_eigenvec_trr(f\"{directory}/analy/eigenvec.trr\")\n",
    "    \n",
    "peptides = sorted(eigenv.keys())"
   ]
  },
  {
   "cell_type": "code",
   "execution_count": null,
   "id": "91a9a0a0",
   "metadata": {},
   "outputs": [],
   "source": [
    "ev1, eo1 = eigenv[\"ggALAALAgg\"]\n",
    "ev2, eo2 = eigenv[\"ggGLYALAgg\"]\n",
    "\n",
    "n = eo1.shape[0]\n",
    "mtx = np.ones((n, n))\n",
    "\n",
    "for i in range(n):\n",
    "    for j in range(n):\n",
    "        mtx[i,j] = np.dot(ev1[i], ev2[j]) ** 2\n",
    "\n",
    "fig, axs = plt.subplots(2,2, figsize=(7,6), dpi=300, sharex=\"col\", sharey=\"row\",\n",
    "                        gridspec_kw={\"hspace\":0, \"wspace\":0, \"height_ratios\":[1,5], \"width_ratios\":[5,2]},)\n",
    "ax = axs[0,0]\n",
    "ax.bar(np.arange(eo2.size), eo2)\n",
    "ax = axs[1,1]\n",
    "ax.barh(np.arange(eo1.size), eo1)\n",
    "ax = axs[1,0]\n",
    "im = ax.imshow(mtx, aspect=\"auto\", cmap=\"Spectral_r\", vmin=0, vmax=1)\n",
    "\n",
    "plt.colorbar(im, ax = axs[1,1])"
   ]
  },
  {
   "cell_type": "code",
   "execution_count": null,
   "id": "874ae14b",
   "metadata": {},
   "outputs": [],
   "source": [
    "n_component = 2\n",
    "\n",
    "mtx = np.zeros((len(peptides),) * 2)\n",
    "\n",
    "for i, (ev1, eo1) in enumerate((eigenv[p] for p in peptides)):\n",
    "    for j, (ev2, eo2) in enumerate((eigenv[p] for p in peptides)):\n",
    "        \n",
    "        # Coverage matrix\n",
    "        mtx[i,j] = np.sqrt(np.sum(np.dot(ev1[:n_component], ev2[:n_component].T)**2))"
   ]
  },
  {
   "cell_type": "code",
   "execution_count": null,
   "id": "77d62042",
   "metadata": {},
   "outputs": [],
   "source": [
    "np.max(mtx)"
   ]
  },
  {
   "cell_type": "code",
   "execution_count": null,
   "id": "7c6af2fd",
   "metadata": {},
   "outputs": [],
   "source": [
    "#\n",
    "# -- Plot\n",
    "#\n",
    "fig, ax = plt.subplots(1,1, figsize=(5,4), dpi=300)\n",
    "ax.grid(True, \"minor\", \"both\", color=\"k\", linewidth=.2, alpha=1)\n",
    "\n",
    "im = ax.imshow(mtx, cmap=\"jet_r\", vmin=0, vmax=1)\n",
    "\n",
    "ax.set_yticks(np.arange(14, 841, 29))\n",
    "ax.set_yticks(np.arange(-.5, 840.5, 29), minor=True)\n",
    "ax.set_yticklabels([p[2:5] for p in peptides[::29]], size=7)\n",
    "ax.set_xticks(np.arange(14, 841, 29))\n",
    "ax.set_xticks(np.arange(-.5, 840.5, 29), minor=True)\n",
    "ax.set_xticklabels([p[2:5] for p in peptides[::29]], size=7, rotation=-90)\n",
    "\n",
    "plt.colorbar(im, ax=ax, )\n",
    "plt.show()"
   ]
  },
  {
   "cell_type": "code",
   "execution_count": null,
   "id": "b852bf96",
   "metadata": {},
   "outputs": [],
   "source": [
    "for n_components in [2,3,8,10,14]:\n",
    "\n",
    "    mtx = np.zeros((len(peptides),) * 2)\n",
    "\n",
    "    for i, (ev1, eo1) in enumerate((eigenv[p] for p in peptides if p[2:5] == p[5:8])):\n",
    "        for j, (ev2, eo2) in enumerate((eigenv[p] for p in peptides if p[2:5] == p[5:8])):\n",
    "\n",
    "            # Proj ev2 (axis=1) on ev1 (axis=0)\n",
    "            proj = np.dot(ev1, ev2.T) ** 2\n",
    "\n",
    "            # Coverage matrix\n",
    "            mtx[i,j] = np.sum(proj[:n_components] * eo2) / np.sum(eo2)\n",
    "\n",
    "    summa = np.sum(mtx, axis=1) / len(peptides) * 29\n",
    "    order = np.argsort(summa)\n",
    "\n",
    "    print(f\"{n_components} COMPONENTS:\")\n",
    "    print(f\"  1st:\\t{[p for p in peptides if p[2:5] == p[5:8]][order[-1]]} ({summa[order[-1]]:.4f})\")\n",
    "    print(f\"  2nd:\\t{[p for p in peptides if p[2:5] == p[5:8]][order[-2]]} ({summa[order[-2]]:.4f})\")\n",
    "    print(f\"  3rd:\\t{[p for p in peptides if p[2:5] == p[5:8]][order[-3]]} ({summa[order[-3]]:.4f})\")\n",
    "    print(f\"  4th:\\t{[p for p in peptides if p[2:5] == p[5:8]][order[-4]]} ({summa[order[-4]]:.4f})\")\n",
    "    print(f\"  5th:\\t{[p for p in peptides if p[2:5] == p[5:8]][order[-5]]} ({summa[order[-5]]:.4f})\")\n",
    "    print()"
   ]
  },
  {
   "cell_type": "markdown",
   "id": "c64baa06-2b10-473f-a509-708e6a2091fa",
   "metadata": {},
   "source": [
    "# Eigenvalue analysis"
   ]
  },
  {
   "cell_type": "code",
   "execution_count": null,
   "id": "47f9f804-5924-4c3c-a24b-cbe8833e3176",
   "metadata": {},
   "outputs": [],
   "source": [
    "filelist = sorted(glob.glob(\"../*peptides/gg*/analy/eigenval.xvg\"))"
   ]
  },
  {
   "cell_type": "code",
   "execution_count": null,
   "id": "719ca413-18bb-41cc-8983-0ea6bd20bfb6",
   "metadata": {},
   "outputs": [],
   "source": [
    "eigvalues = np.zeros((3393, 36), dtype=float)\n",
    "\n",
    "for i, fpath in enumerate(filelist):\n",
    "    arr = np.loadtxt(fpath, usecols=(1,))\n",
    "    eigvalues[i,:len(arr)] = arr    "
   ]
  },
  {
   "cell_type": "code",
   "execution_count": null,
   "id": "79164e11-8a5d-481c-bb75-965fe4adbb31",
   "metadata": {},
   "outputs": [],
   "source": [
    "explained = np.cumsum(eigvalues, axis=1)\n",
    "explained = (explained.T / explained[:,-1]).T"
   ]
  },
  {
   "cell_type": "code",
   "execution_count": null,
   "id": "7ebfb32d-9c54-4581-8974-1e8d442b65a5",
   "metadata": {},
   "outputs": [],
   "source": [
    "q25, q50, q75 = np.quantile(explained, [.25, .5, .75], axis=0)\n",
    "\n",
    "fig, ax = plt.subplots()\n",
    "\n",
    "ax.fill_between(np.arange(1, q50.size+1), q25, q75, alpha=.3)\n",
    "ax.plot(np.arange(1,q50.size+1), q50)"
   ]
  },
  {
   "cell_type": "code",
   "execution_count": null,
   "id": "172b853d-f7d1-45ba-8e31-012da6b9126e",
   "metadata": {},
   "outputs": [],
   "source": [
    "q50[4]"
   ]
  },
  {
   "cell_type": "code",
   "execution_count": null,
   "id": "971403ed-34d4-42f7-8d12-0feacc24b5b9",
   "metadata": {},
   "outputs": [],
   "source": []
  }
 ],
 "metadata": {
  "kernelspec": {
   "display_name": "Python 3 (ipykernel)",
   "language": "python",
   "name": "python3"
  },
  "language_info": {
   "codemirror_mode": {
    "name": "ipython",
    "version": 3
   },
   "file_extension": ".py",
   "mimetype": "text/x-python",
   "name": "python",
   "nbconvert_exporter": "python",
   "pygments_lexer": "ipython3",
   "version": "3.10.4"
  }
 },
 "nbformat": 4,
 "nbformat_minor": 5
}
