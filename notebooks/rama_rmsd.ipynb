{
 "cells": [
  {
   "cell_type": "code",
   "execution_count": null,
   "id": "8681e7f6",
   "metadata": {},
   "outputs": [],
   "source": [
    "import sys, os\n",
    "import glob\n",
    "import weakref\n",
    "\n",
    "import matplotlib\n",
    "import matplotlib.pyplot as plt\n",
    "import numpy as np\n",
    "import pandas as pd\n",
    "import scipy\n",
    "import tqdm\n",
    "\n",
    "from bio2byte.mdutils.utils.BBanalysis import BBDihedrals, stack_uneven, boltzmann_energy\n",
    "\n",
    "# --- Font size and familiy\n",
    "matplotlib.rcParams['font.size']          =   10\n",
    "matplotlib.rcParams['axes.labelsize']     =   10\n",
    "#matplotlib.rcParams['font.serif']         =   [\"Cambria\"]\n",
    "#matplotlib.rcParams['font.sans-serif']    =   [\"Arial\"]\n",
    "#matplotlib.rcParams['axes.unicode_minus'] =   False # Use for Noto Fonts\n",
    "matplotlib.rcParams[\"mathtext.fontset\"]   =    \"dejavusans\" # \"dejavusans\" \"dejavuserif\" \"stix\"\n",
    "matplotlib.rcParams['axes.linewidth']     =   1\n",
    "matplotlib.rcParams['lines.linewidth']    =   .9"
   ]
  },
  {
   "cell_type": "markdown",
   "id": "f4844ac0",
   "metadata": {},
   "source": [
    "# Read dihedral data\n",
    "\n",
    "* DO NOT execute, unless you need to read in new data"
   ]
  },
  {
   "cell_type": "code",
   "execution_count": null,
   "id": "79276507",
   "metadata": {},
   "outputs": [],
   "source": [
    "residues = sorted([\n",
    "    \"ALA\", \"ARG\", \"ASH\", \"ASN\", \"ASP\", \n",
    "    \"CYS\", \"GLH\", \"GLN\", \"GLU\", \"GLY\", \n",
    "    \"HIP\", \"HIS\", \"ILE\", \"LEU\", \"LYS\", \n",
    "    \"MET\", \"PHE\", \"PRO\", \"PTR\", \"S1P\",\n",
    "    \"SEP\", \"SER\", \"T1P\", \"THR\", \"TPO\", \n",
    "    \"TRP\", \"TYR\", \"VAL\", \"Y1P\"])"
   ]
  },
  {
   "cell_type": "code",
   "execution_count": null,
   "id": "f3c70dc8-4911-4ca3-87cc-84852ce6c6ba",
   "metadata": {},
   "outputs": [],
   "source": [
    "for plength in [6,7,8,9]:\n",
    "    \n",
    "    g = \"g\" * (plength - 6)\n",
    "    \n",
    "    print(f\"Loading {plength}-peptides \", end=\"\")\n",
    "    peptide_names = []\n",
    "    peptide_data  = []\n",
    "    for pname in tqdm.tqdm([f\"gg{x+g+y}gg\" for x in residues for y in residues]):\n",
    "        bbobj = BBDihedrals(f\"../{plength}peptides/{pname}/analy/dihedrals.csv\")\n",
    "        bbobj.histogram_bins = np.arange(-180,181,9)\n",
    "        peptide_names.append(pname)\n",
    "        peptide_data.append(bbobj)\n",
    "\n",
    "    n = len(peptide_names)\n",
    "    diffMtx = np.zeros((n, n), dtype=np.float32)\n",
    "\n",
    "    print(\"Calculating RMSD...\")\n",
    "    fn = lambda x: (x**2 - x) // 2 # CumSum for arithmetic progression a(x) = x-1\n",
    "    with tqdm.tqdm(total=fn(len(peptide_data))) as progbar:\n",
    "        for i, bbobj1 in enumerate(peptide_data):\n",
    "            for j, bbobj2 in enumerate(peptide_data[i+1:], start=i+1):\n",
    "                delta = np.stack([(bbobj1.hist[i] - bbobj2.hist[i]) **2 for i in bbobj1.iterresids()], \n",
    "                                 axis=2)\n",
    "                rmsd  = np.sqrt(np.mean(delta))\n",
    "                diffMtx[i,j] = rmsd\n",
    "                diffMtx[j,i] = rmsd\n",
    "                progbar.update(1)\n",
    "\n",
    "    np.save(f\"rms/rms{plength}peptides.npy\", diffMtx, allow_pickle=True)"
   ]
  },
  {
   "cell_type": "markdown",
   "id": "9c2d371d-08b3-4033-9162-0fda6c57fe18",
   "metadata": {},
   "source": [
    "# Plot RMS Matrix\n",
    "\n",
    "\n",
    "## :: Normalization"
   ]
  },
  {
   "cell_type": "code",
   "execution_count": null,
   "id": "d64433fb",
   "metadata": {},
   "outputs": [],
   "source": [
    "i,j = 0.,0.\n",
    "for npyfile in glob.glob(\"rms/rms*peptides.npy\"):\n",
    "    arr = np.load(npyfile)\n",
    "    i = min(i, np.min(arr))\n",
    "    j = max(j, np.max(arr))\n",
    "norma   = matplotlib.colors.Normalize(i,j)\n",
    "del arr\n",
    "\n",
    "cmap = \"viridis\""
   ]
  },
  {
   "cell_type": "markdown",
   "id": "356f8f76",
   "metadata": {},
   "source": [
    "## :: 6-peptides"
   ]
  },
  {
   "cell_type": "code",
   "execution_count": null,
   "id": "c9a8d598",
   "metadata": {},
   "outputs": [],
   "source": [
    "for i in np.arange(6) + 2:\n",
    "    diffMtx = np.load(f\"rms_6peptides_resid{i:d}.npy\")\n",
    "    n = int(diffMtx.shape[0] ** .5)\n",
    "\n",
    "    fig, ax = plt.subplots(figsize=(10,9), dpi=600)\n",
    "\n",
    "    ax.grid(True, \"minor\", \"both\", color=\"w\", linewidth=.6, alpha=.5)\n",
    "    hmap = ax.imshow(diffMtx, cmap=cmap, norm=norma, extent=(0,n**2,n**2,0))\n",
    "    cbar = plt.colorbar(hmap, ax=ax, shrink=.7)\n",
    "\n",
    "    ax.xaxis.set_tick_params(which='both', top=True, bottom=False, labeltop=True, labelbottom=False)\n",
    "    ax.set_xticks(np.arange(n/2, n**2, n)); ax.set_xticklabels(residues, rotation=-90)\n",
    "    ax.set_xticks(np.arange(0, n**2, n/2), minor=True)\n",
    "    ax.set_yticks(np.arange(n/2, n**2, n)); ax.set_yticklabels(residues)\n",
    "    ax.set_yticks(np.arange(0, n**2, n/2), minor=True)\n",
    "\n",
    "    fig.savefig(f\"figures/rms_6peptides_resid{i:d}.png\", dpi=600, bbox_inches='tight')\n",
    "    plt.clf()"
   ]
  },
  {
   "cell_type": "markdown",
   "id": "b961f5a5",
   "metadata": {},
   "source": [
    "## :: 7-peptides"
   ]
  },
  {
   "cell_type": "code",
   "execution_count": null,
   "id": "443af2e2",
   "metadata": {},
   "outputs": [],
   "source": [
    "for i in np.arange(7) + 2:\n",
    "    diffMtx = np.load(f\"rms_7peptides_resid{i:d}.npy\")\n",
    "    n = int(diffMtx.shape[0] ** .5)\n",
    "\n",
    "    fig, ax = plt.subplots(figsize=(10,9), dpi=600)\n",
    "\n",
    "    ax.grid(True, \"minor\", \"both\", color=\"w\", linewidth=.6, alpha=.5)\n",
    "    hmap = ax.imshow(diffMtx, cmap=cmap, norm=norma, extent=(0,n**2,n**2,0))\n",
    "    cbar = plt.colorbar(hmap, ax=ax, shrink=.7)\n",
    "\n",
    "    ax.xaxis.set_tick_params(which='both', top=True, bottom=False, labeltop=True, labelbottom=False)\n",
    "    ax.set_xticks(np.arange(n/2, n**2, n)); ax.set_xticklabels(residues, rotation=-90)\n",
    "    ax.set_xticks(np.arange(0, n**2, n/2), minor=True)\n",
    "    ax.set_yticks(np.arange(n/2, n**2, n)); ax.set_yticklabels(residues)\n",
    "    ax.set_yticks(np.arange(0, n**2, n/2), minor=True)\n",
    "\n",
    "    fig.savefig(f\"rms_7peptides_resid{i:d}.png\", dpi=600, bbox_inches='tight')\n",
    "    plt.clf()"
   ]
  },
  {
   "cell_type": "markdown",
   "id": "3b3c7ef4",
   "metadata": {},
   "source": [
    "## :: 8-peptides"
   ]
  },
  {
   "cell_type": "code",
   "execution_count": null,
   "id": "8bfcd734",
   "metadata": {},
   "outputs": [],
   "source": [
    "for i in np.arange(8) + 2:\n",
    "    diffMtx = np.load(f\"rms_8peptides_resid{i:d}.npy\")\n",
    "    n = int(diffMtx.shape[0] ** .5)\n",
    "\n",
    "    fig, ax = plt.subplots(figsize=(10,9), dpi=600)\n",
    "\n",
    "    ax.grid(True, \"minor\", \"both\", color=\"w\", linewidth=.6, alpha=.5)\n",
    "    hmap = ax.imshow(diffMtx, cmap=cmap, norm=norma, extent=(0,n**2,n**2,0))\n",
    "    cbar = plt.colorbar(hmap, ax=ax, shrink=.7)\n",
    "\n",
    "    ax.xaxis.set_tick_params(which='both', top=True, bottom=False, labeltop=True, labelbottom=False)\n",
    "    ax.set_xticks(np.arange(n/2, n**2, n)); ax.set_xticklabels(residues, rotation=-90)\n",
    "    ax.set_xticks(np.arange(0, n**2, n/2), minor=True)\n",
    "    ax.set_yticks(np.arange(n/2, n**2, n)); ax.set_yticklabels(residues)\n",
    "    ax.set_yticks(np.arange(0, n**2, n/2), minor=True)\n",
    "\n",
    "    fig.savefig(f\"rms_8peptides_resid{i:d}.png\", dpi=600, bbox_inches='tight')\n",
    "    plt.clf()"
   ]
  },
  {
   "cell_type": "markdown",
   "id": "97a38136",
   "metadata": {},
   "source": [
    "## :: 9peptides"
   ]
  },
  {
   "cell_type": "code",
   "execution_count": null,
   "id": "54d583bf",
   "metadata": {},
   "outputs": [],
   "source": [
    "for i in np.arange(9) + 2:\n",
    "    diffMtx = np.load(f\"rms_9peptides_resid{i:d}.npy\")\n",
    "    n = int(diffMtx.shape[0] ** .5)\n",
    "\n",
    "    fig, ax = plt.subplots(figsize=(10,9), dpi=600)\n",
    "\n",
    "    ax.grid(True, \"minor\", \"both\", color=\"w\", linewidth=.6, alpha=.5)\n",
    "    hmap = ax.imshow(diffMtx, cmap=cmap, norm=norma, extent=(0,n**2,n**2,0))\n",
    "    cbar = plt.colorbar(hmap, ax=ax, shrink=.7)\n",
    "\n",
    "    ax.xaxis.set_tick_params(which='both', top=True, bottom=False, labeltop=True, labelbottom=False)\n",
    "    ax.set_xticks(np.arange(n/2, n**2, n)); ax.set_xticklabels(residues, rotation=-90)\n",
    "    ax.set_xticks(np.arange(0, n**2, n/2), minor=True)\n",
    "    ax.set_yticks(np.arange(n/2, n**2, n)); ax.set_yticklabels(residues)\n",
    "    ax.set_yticks(np.arange(0, n**2, n/2), minor=True)\n",
    "\n",
    "    fig.savefig(f\"rms_9peptides_resid{i:d}.png\", dpi=600, bbox_inches='tight')\n",
    "    plt.clf()"
   ]
  }
 ],
 "metadata": {
  "kernelspec": {
   "display_name": "Python 3 (ipykernel)",
   "language": "python",
   "name": "python3"
  },
  "language_info": {
   "codemirror_mode": {
    "name": "ipython",
    "version": 3
   },
   "file_extension": ".py",
   "mimetype": "text/x-python",
   "name": "python",
   "nbconvert_exporter": "python",
   "pygments_lexer": "ipython3",
   "version": "3.10.4"
  }
 },
 "nbformat": 4,
 "nbformat_minor": 5
}
