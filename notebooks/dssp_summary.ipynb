{
 "cells": [
  {
   "cell_type": "code",
   "execution_count": null,
   "id": "de483f3b-a794-49c3-b316-01a030fed28c",
   "metadata": {},
   "outputs": [],
   "source": [
    "import glob\n",
    "import re\n",
    "from os.path import dirname, basename\n",
    "import matplotlib.pyplot as plt\n",
    "import numpy as np\n",
    "import pandas as pd\n",
    "import tqdm\n",
    "\n",
    "residues = [\n",
    "    'ALA', 'ARG', 'ASN', 'ASP', 'ASH', \n",
    "    'CYS', 'GLN', 'GLU', 'GLH', 'GLY',\n",
    "    'HIS', 'HIP', 'ILE', 'LEU', 'LYS',\n",
    "    'MET', 'PHE', 'PRO', 'TRP', 'VAL',\n",
    "    'SER', 'S1P', 'SEP',\n",
    "    'THR', 'T1P', 'TPO',\n",
    "    'TYR', 'Y1P', 'PTR'\n",
    "]\n",
    "\n",
    "%matplotlib inline"
   ]
  },
  {
   "cell_type": "markdown",
   "id": "b222220d-6183-4b38-b18c-9ffec9c8fc64",
   "metadata": {},
   "source": [
    "### Code to write the dssp summaries\n",
    "```python\n",
    "def get_residues(fpath : str, start_index=2):\n",
    "    d = {'g': 'GLY'}\n",
    "    resiter = re.finditer(r'(g|[A-Z0-9]{3})', basename(dirname(dirname(fpath))))\n",
    "    return [(i, d.get(x,x)) for i,x in enumerate((x.group() for x in resiter), start_index)]\n",
    "\n",
    "def summarize_dssp(fpath : str):\n",
    "    # Get residues\n",
    "    reslist = get_residues(fpath)\n",
    "    dsspsum = np.zeros((9, len(reslist)), dtype=float)\n",
    "    \n",
    "    with open(fpath, \"r\") as fhandle:\n",
    "        for ln in fhandle:\n",
    "            for i, sscode in enumerate(ln.strip()[1:-1]):\n",
    "                j = \"HBEGIPTS~\".index(sscode)\n",
    "                dsspsum[j,i] += 1\n",
    "    sums = np.sum(dsspsum, axis=0)\n",
    "    assert (sums == sums[0]).all()\n",
    "    dsspsum /= sums\n",
    "    \n",
    "    # Write as csv\n",
    "    df = pd.DataFrame({\n",
    "        \"#ResIndex\": [a for a,b in reslist], \n",
    "        \"ResName\": [b for a,b in reslist],\n",
    "        **{f\"dssp[{ss}]\": dsspsum[i] for i, ss in enumerate(\"HBEGIPTSC\")}\n",
    "    })\n",
    "    return df\n",
    "\n",
    "for fpath in tqdm.tqdm(glob.glob(\"../*peptides/gg*/analy/dssp.dat\")):\n",
    "    df = summarize_dssp(fpath)\n",
    "    df.to_csv(dirname(fpath) + \"/dssp_summary.dat\", float_format=\"%.4f\", index=False)\n",
    "```"
   ]
  },
  {
   "cell_type": "markdown",
   "id": "08a52f1f-85e5-41e8-bdeb-843b66c7f20b",
   "metadata": {},
   "source": [
    "# Analyze the DSSP summary files\n",
    "\n",
    "### Load DSSP-summary files"
   ]
  },
  {
   "cell_type": "code",
   "execution_count": null,
   "id": "0bcec5c5-40f3-4f6c-9176-7880f7fb29da",
   "metadata": {},
   "outputs": [],
   "source": [
    "dsspdata = pd.DataFrame()\n",
    "\n",
    "for fpath in tqdm.tqdm(glob.glob(\"../*peptides/gg*/analy/dssp_summary.dat\")):\n",
    "    df = pd.read_csv(fpath)\n",
    "    df[\"plength\"] = df.shape[0]\n",
    "    df[\"psequence\"] = \"-\".join(df[\"ResName\"])\n",
    "    dsspdata = pd.concat([dsspdata, df], axis=0)"
   ]
  },
  {
   "cell_type": "code",
   "execution_count": null,
   "id": "f897f820-cc38-4f39-a179-814aba74b78f",
   "metadata": {},
   "outputs": [],
   "source": [
    "\n",
    "\n",
    "\n",
    "for attr in (f\"dssp[{ss}]\" for ss in \"HBEGIPTSC\"):\n",
    "    # Data\n",
    "    xvals = np.arange(len(residues))\n",
    "    data = [dsspdata.loc[(dsspdata[\"ResName\"] == res) & (dsspdata[\"plength\"] == 9)][attr] for res in residues]\n",
    "\n",
    "    # Plot\n",
    "    fig, ax = plt.subplots(figsize=(8,2))\n",
    "    ax.set_title(attr)\n",
    "    ax.violinplot(data, positions=xvals, widths=.8)\n",
    "    ax.set_xticks(xvals)\n",
    "    ax.set_xticklabels(residues, rotation=90.)"
   ]
  }
 ],
 "metadata": {
  "kernelspec": {
   "display_name": "Python 3 (ipykernel)",
   "language": "python",
   "name": "python3"
  },
  "language_info": {
   "codemirror_mode": {
    "name": "ipython",
    "version": 3
   },
   "file_extension": ".py",
   "mimetype": "text/x-python",
   "name": "python",
   "nbconvert_exporter": "python",
   "pygments_lexer": "ipython3",
   "version": "3.10.4"
  }
 },
 "nbformat": 4,
 "nbformat_minor": 5
}
