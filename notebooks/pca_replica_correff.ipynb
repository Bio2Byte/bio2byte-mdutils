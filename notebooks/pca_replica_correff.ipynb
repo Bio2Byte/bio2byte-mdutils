{
 "cells": [
  {
   "cell_type": "raw",
   "id": "642cbed9",
   "metadata": {},
   "source": [
    "AMINO_ACID_COLORS = \"\"\"\\\n",
    "aa   Clustal   Zappo  Taylor Hydrophobicity HelixPropensity StrandPropensity TurnPropensity BuriedIndex   amino shapely\n",
    "ALA   80a0f0  ffafaf  ccff00         ad0052          e718e7           5858a7         2cd3d3      00a35c  c8c8c8  8CFF8C\n",
    "ARG   f01505  6464ff  0000ff         0000ff          6f906f           6b6b94         708f8f      00fc03  145aff  00007C\n",
    "ASN   00ff00  00ff00  cc00ff         0c00f3          1be41b           64649b         ff0000      00eb14  00dcdc  FF7C70\n",
    "ASP   c048c0  ff0000  ff0000         0c00f3          778877           2121de         e81717      00eb14  e60a0a  A00042\n",
    "CYS   f08080  ffff00  ffff00         c2003d          23dc23           9d9d62         a85757      0000ff  e6e600  FFFF70\n",
    "GLN   00ff00  00ff00  ff00cc         0c00f3          926d92           8c8c73         3fc0c0      00f10e  00dcdc  FF4C4C\n",
    "GLU   c048c0  ff0000  ff0066         0c00f3          ff00ff           0000ff         778888      00f10e  e60a0a  660000\n",
    "GLY   f09048  ff00ff  ff9900         6a0095          00ff00           4949b6         ff0000      009d62  ebebeb  FFFFFF\n",
    "HIS   15a4a4  6464ff  0066ff         1500ea          758a75           60609f         708f8f      00d52a  8282d2  7070FF\n",
    "ILE   80a0f0  ffafaf  66ff00         ff0000          8a758a           ecec13         00ffff      0054ab  0f820f  004C00\n",
    "LEU   80a0f0  ffafaf  33ff00         ea0015          ae51ae           b2b24d         1ce3e3      007b84  0f820f  455E45\n",
    "LYS   f01505  6464ff  6600ff         0000ff          a05fa0           4747b8         7e8181      00ff00  145aff  4747B8\n",
    "MET   80a0f0  ffafaf  00ff00         b0004f          ef10ef           82827d         1ee1e1      009768  e6e600  B8A042\n",
    "PHE   80a0f0  ffc800  00ff66         cb0034          986798           c2c23d         1ee1e1      008778  3232aa  534C42\n",
    "PRO   ffff00  ff00ff  ffcc00         4600b9          00ff00           2323dc         f60909      00e01f  dc9682  525252\n",
    "SER   00ff00  00ff00  ff3300         5e00a1          36c936           4949b6         e11e1e      00d52a  fa9600  FF7042\n",
    "THR   00ff00  00ff00  ff6600         61009e          47b847           9d9d62         738c8c      00db24  fa9600  B84C00\n",
    "TRP   80a0f0  ffc800  00ccff         5b00a4          8a758a           c0c03f         738c8c      00a857  b45ab4  4F4600\n",
    "TYR   15a4a4  ffc800  00ffcc         4f00b0          21de21           d3d32c         9d6262      00e619  3232aa  8C704C\n",
    "VAL   80a0f0  ffafaf  99ff00         f60009          857a85           ffff00         07f8f8      005fa0  0f820f  FF8CFF\n",
    "\"\""
   ]
  },
  {
   "cell_type": "code",
   "execution_count": null,
   "id": "474ce1bc",
   "metadata": {
    "scrolled": true
   },
   "outputs": [],
   "source": [
    "import glob\n",
    "import sys\n",
    "import os\n",
    "import re\n",
    "\n",
    "import matplotlib as mpl\n",
    "import matplotlib.pyplot as plt\n",
    "import numpy as np\n",
    "import pandas as pd\n",
    "from scipy.stats import gaussian_kde\n",
    "\n",
    "sys.path.append(\"/user/brussel/104/vsc10478/scripts/gmxtools\")\n",
    "from gmxtools.ndhist import NDHistogram\n",
    "\n",
    "aminoacids1to3 = dict(\n",
    "\tA=\"ALA\", C=\"CYS\", D=\"ASP\", E=\"GLU\", F=\"PHE\",\n",
    "\tG=\"GLY\", H=\"HIS\", I=\"ILE\", K=\"LYS\", L=\"LEU\",\n",
    "\tM=\"MET\", N=\"ASN\", P=\"PRO\", Q=\"GLN\", R=\"ARG\",\n",
    "\tS=\"SER\", T=\"THR\", V=\"VAL\", W=\"TRP\", Y=\"TYR\",\n",
    ")\n",
    "\n",
    "aminoacids3to1 = {j: i for i, j in aminoacids1to3.items()}\n",
    "\n",
    "%matplotlib inline"
   ]
  },
  {
   "cell_type": "markdown",
   "id": "c2108315-1a25-416d-9f1e-57dd0b1cb9ed",
   "metadata": {
    "tags": []
   },
   "source": [
    "# Correlation plot"
   ]
  },
  {
   "cell_type": "code",
   "execution_count": null,
   "id": "8c1f90cc-76fe-455c-bedb-7468ccb4b429",
   "metadata": {},
   "outputs": [],
   "source": [
    "peptide = \"ggSEPgGLNgg\"\n",
    "\n",
    "proj = NDHistogram.from_projectionfile(f\"../7peptides/{peptide}/analy/proj.xvg\", n_replicas=4)"
   ]
  },
  {
   "cell_type": "code",
   "execution_count": null,
   "id": "71371baf-890a-4fa1-b595-1a1ec5552501",
   "metadata": {},
   "outputs": [],
   "source": [
    "mycolors = mpl.cm.jet(np.linspace(0, 1, 256))\n",
    "mycolors[0,:] = [1., 1., 1., 0.]\n",
    "mycmap =  mpl.colors.ListedColormap(mycolors)\n",
    "\n",
    "# Build bins\n",
    "N_POINTS = 50\n",
    "vmin1, vmin2 = np.min(proj.data[:,:,:2], axis=(0,1))\n",
    "vmax1, vmax2 = np.max(proj.data[:,:,:2], axis=(0,1))\n",
    "delta1, delta2 = vmax1 - vmin1, vmax2 - vmin2\n",
    "bins = (\n",
    "    np.linspace(vmin1 - delta1/N_POINTS, vmax1 + delta1/N_POINTS, N_POINTS+2),\n",
    "    np.linspace(vmin2 - delta2/N_POINTS, vmax2 + delta2/N_POINTS, N_POINTS+2)\n",
    ")\n",
    "\n",
    "# Build data, Normalize data\n",
    "hist2d = []\n",
    "for i in range(4):\n",
    "    h, xe, ye  = np.histogram2d(proj.data[i,:,0], proj.data[i,:,1], bins=bins, density=True)\n",
    "    hist2d.append(h.T)\n",
    "hist2d = np.stack(hist2d)\n",
    "#hist2d[hist2d == 0] = np.nan\n",
    "#hist2d = -np.log(hist2d)\n",
    "#hist2d[np.isnan(hist2d)] = np.nanmax(hist2d) + (np.nanmax(hist2d) - np.nanmin(hist2d)) / 255.\n",
    "norma = mpl.colors.Normalize(np.nanmin(hist2d), np.nanmax(hist2d))\n",
    "\n",
    "\n",
    "fig, axs = plt.subplots(2,2, figsize=(7,5), dpi=96, gridspec_kw={\"hspace\":.3, \"wspace\":.3})\n",
    "\n",
    "for i, ax in enumerate(axs.flatten()):\n",
    "    ax.grid(True, \"major\", \"both\", color=\"0.5\", linestyle=\"--\", alpha=.6)\n",
    "    im =ax.imshow(hist2d[i], interpolation=\"gaussian\", cmap=mycmap, norm=norma,\n",
    "                  extent=(vmin1, vmax1, vmin2, vmax2,))\n",
    "    ax.set_xlabel(\"PC #1\")\n",
    "    ax.set_xticks(np.arange(-2, 2.1, 1))\n",
    "    ax.set_ylabel(\"PC #2\")\n",
    "    ax.set_yticks(np.arange(-2, 2.1, 1))\n",
    "    \n",
    "plt.colorbar(im, ax=axs)\n",
    "    \n",
    "#ig.savefig(f\"figures/replica_pc1_pc2_{peptide}.png\", dpi=300, bbox_inches=\"tight\")"
   ]
  },
  {
   "cell_type": "code",
   "execution_count": null,
   "id": "1d5e36f3-6d68-46f2-9e49-60391346d458",
   "metadata": {},
   "outputs": [],
   "source": [
    "def gkern(l=5, sig=1.):\n",
    "    \"\"\"\\\n",
    "    creates gaussian kernel with side length `l` and a sigma of `sig`\n",
    "    \"\"\"\n",
    "    ax = np.linspace(-(l - 1) / 2., (l - 1) / 2., l)\n",
    "    gauss = np.exp(-0.5 * np.square(ax) / np.square(sig))\n",
    "    kernel = np.outer(gauss, gauss)\n",
    "    return kernel / np.sum(kernel)\n",
    "\n",
    "gkern(7,2)"
   ]
  },
  {
   "cell_type": "code",
   "execution_count": null,
   "id": "daeb50ad-0ad1-486f-a401-b72c3c620483",
   "metadata": {},
   "outputs": [],
   "source": [
    "from scipy.signal import convolve2d"
   ]
  },
  {
   "cell_type": "code",
   "execution_count": null,
   "id": "f24f2932-6d9a-47ca-9839-773fa29b9905",
   "metadata": {},
   "outputs": [],
   "source": [
    "mycolors = mpl.cm.jet(np.linspace(0, 1, 256))\n",
    "mycolors[0,:] = [1., 1., 1., 0.]\n",
    "mycmap =  mpl.colors.ListedColormap(mycolors)\n",
    "\n",
    "# Build bins\n",
    "N_POINTS = 100\n",
    "INDEX = 0\n",
    "vmin1, vmin2 = np.min(proj.data[:,:,:2], axis=(0,1))\n",
    "vmax1, vmax2 = np.max(proj.data[:,:,:2], axis=(0,1))\n",
    "delta1, delta2 = vmax1 - vmin1, vmax2 - vmin2\n",
    "bins = (\n",
    "    np.linspace(vmin1 - delta1/N_POINTS, vmax1 + delta1/N_POINTS, N_POINTS+2),\n",
    "    np.linspace(vmin2 - delta2/N_POINTS, vmax2 + delta2/N_POINTS, N_POINTS+2)\n",
    ")\n",
    "\n",
    "# Build data, Normalize data\n",
    "hist2d, xe, ye  = np.histogram2d(proj.data[INDEX,:,0], proj.data[INDEX,:,1], bins=bins, density=True)\n",
    "\n",
    "hist2d = convolve2d(hist2d, gkern(7,2), mode=\"same\")\n",
    "\n",
    "xvals, yvals = np.meshgrid((xe[1:] + xe[:-1]) / 2, (ye[1:] + ye[:-1]) / 2, indexing=\"xy\")\n",
    "\n",
    "fig, ax = plt.subplots(subplot_kw={\"projection\": \"3d\"}, dpi=300)\n",
    "\n",
    "surf = ax.plot_surface(xvals, yvals, hist2d, cmap=mycmap,\n",
    "                       linewidth=0, antialiased=True)"
   ]
  },
  {
   "cell_type": "code",
   "execution_count": null,
   "id": "0647c0cb-9c05-4d24-a3b9-c84621452c47",
   "metadata": {},
   "outputs": [],
   "source": [
    "proj.data = proj.data[:,:,:5]\n",
    "proj.make_nbins(nbins=5)\n",
    "proj.make_histograms(first=0, last=14999)\n",
    "\n",
    "i, j = 0, 3\n",
    "arri, arrj = proj.hists[[i, j]] / 15000\n",
    "msk = (arri > 0) | (arrj > 0)\n",
    "arri, arrj = arri[msk], arrj[msk]\n",
    "\n",
    "#sp = np.sum( (arri - np.mean(arri)) * (arrj - np.mean(arrj)) )\n",
    "#sqi, sqj = np.sum((ai - np.mean(ai))**2), np.sum((aj - np.mean(aj))**2)\n",
    "#corr.append( sp / np.sqrt(sqi * sqj) )\n",
    "\n",
    "fig, ax = plt.subplots(1,1, figsize=(3,3), dpi=150)\n",
    "ax.set_aspect(\"equal\")\n",
    "ax.grid(True, \"major\", \"both\", linewidth=.3, alpha=.5, color=\"k\")\n",
    "ax.scatter(arri, arrj, s=5, alpha=.3, color=\"#00339F\")\n",
    "ax.set_xlabel(\"Replica #1\")\n",
    "ax.set_xticks(np.arange(0, 0.015, 5e-3))\n",
    "ax.set_xticks(np.arange(0, 0.014, 1e-3), minor=True)\n",
    "ax.set_ylabel(\"Replica #2\")\n",
    "ax.set_yticks(np.arange(0, 0.015, 5e-3))\n",
    "ax.set_yticks(np.arange(0, 0.014, 1e-3), minor=True)\n",
    "#fig.savefig(f\"figures/corr_{peptide}_{i}_{j}.png\", dpi=300, bbox_inches=\"tight\")"
   ]
  },
  {
   "cell_type": "markdown",
   "id": "7853484f-80d6-4c76-80d5-64b790227cdc",
   "metadata": {},
   "source": [
    "# Correlation of evolution"
   ]
  },
  {
   "cell_type": "code",
   "execution_count": null,
   "id": "d8d8a80e",
   "metadata": {},
   "outputs": [],
   "source": [
    "def read_replica_correff(filenames):\n",
    "    \"\"\"\n",
    "    Read replica correlation coefficients into an array (N,M,K)\n",
    "        N corresponds to the system in names\n",
    "        M are the incremental time steps\n",
    "        K are the replica comparisons\n",
    "    \"\"\"\n",
    "    names, data, = [], np.zeros((len(filenames), 0, 6))\n",
    "    for k,fname in enumerate(filenames):\n",
    "        names.append(re.search(r\"/(gg\\w+gg)/\", fname).group(1))\n",
    "        arr = np.genfromtxt(fname)\n",
    "        i,j = arr.shape\n",
    "        if (np.array(data.shape) >= [k,i,j-1]).all():\n",
    "            data[k,:i,:j-1] = arr[:,1:]\n",
    "        else:\n",
    "            l,m,n = data.shape\n",
    "            data = np.pad(data, [(0, max(0,k-l)), (0, max(0,i-m)), (0, max(0,j-n-1))],\n",
    "                          mode=\"constant\", constant_values=np.nan)\n",
    "            data[k,:i,:j] = arr[:,1:]\n",
    "            if i > m: nframes = arr[:,0]\n",
    "    return data, nframes, names\n",
    "\n",
    "\n",
    "def get_final_corref(data):\n",
    "    \"\"\" Gets the last correlation coefficient for each system and replica-replica pair \"\"\"\n",
    "    correfs = []\n",
    "    for i, idata in enumerate(data):\n",
    "        jarr, karr = np.where(~np.isnan(idata))\n",
    "        correfs.append([\n",
    "            idata[np.max(jarr[(karr == k)]), k]\n",
    "            for k in np.unique(karr)\n",
    "        ])\n",
    "    return np.array(correfs)\n",
    "\n",
    "\n",
    "def nanquantile(data, quantiles, axis):\n",
    "    \"\"\" Get quantiles for continuous coreff values (filling NaNs with preceeding values) \"\"\"\n",
    "    _data = data.copy()\n",
    "    fill_values = get_final_corref(_data)\n",
    "    i,k,j = np.where(np.isnan(_data))\n",
    "    _data[i,k,j] = fill_values[i,j]\n",
    "    return np.nanquantile(_data, quantiles, axis=axis)\n",
    "    \n",
    "\n",
    "AMINO_ACID_COLORS = {\n",
    "    \"ALA\": \"#c8c8c8\", \"LEU\": \"#0f820f\", \"ASH\": \"#e60a0a\",\n",
    "    \"ARG\": \"#145aff\", \"LYS\": \"#145aff\", \"GLH\": \"#e60a0a\",\n",
    "    \"ASN\": \"#00dcdc\", \"MET\": \"#e6e600\", \"HIP\": \"#145aff\",\n",
    "    \"ASP\": \"#e60a0a\", \"PHE\": \"#3232aa\", \"SEP\": \"#fa9600\",\n",
    "    \"CYS\": \"#e6e600\", \"PRO\": \"#c8c8c8\", \"S1P\": \"#fa9600\",\n",
    "    \"GLN\": \"#00dcdc\", \"SER\": \"#00dcdc\", \"TPO\": \"#fa9600\",\n",
    "    \"GLU\": \"#e60a0a\", \"THR\": \"#00dcdc\", \"T1P\": \"#fa9600\",\n",
    "    \"GLY\": \"#c8c8c8\", \"TRP\": \"#b45ab4\", \"PTR\": \"#fa9600\",\n",
    "    \"HIS\": \"#8282d2\", \"TYR\": \"#3232aa\", \"Y1P\": \"#fa9600\",\n",
    "    \"ILE\": \"#0f820f\", \"VAL\": \"#0f820f\"\n",
    "}\n",
    "\n",
    "five_props = [\n",
    "    [\":\", \"-.\", '-', \"-.\", \":\"],\n",
    "    [.8, .8, 1., .8, .8],\n",
    "]\n",
    "\n",
    "legend_entries = []\n",
    "for label, colo in sorted(AMINO_ACID_COLORS.items()):\n",
    "    legend_entries.append(\n",
    "        mpl.lines.Line2D([0],[0], \n",
    "           marker='o', color='w', label=label, linewidth=0,\n",
    "           markerfacecolor=colo, markeredgecolor=\".2\", markersize=10\n",
    "    ))\n",
    "fig, ax = plt.subplots(1,1, figsize=(3,1), dpi=150)\n",
    "ax.legend(handles=legend_entries, loc=\"center\", ncol=4)\n",
    "ax.axis(\"off\")\n",
    "fig.savefig(\"figures/amino_colors.pdf\", dpi=300, bbox_inches=\"tight\")"
   ]
  },
  {
   "cell_type": "markdown",
   "id": "06f35228-2a6e-4095-9595-fe571919aad1",
   "metadata": {},
   "source": [
    "# 5peptides"
   ]
  },
  {
   "cell_type": "code",
   "execution_count": null,
   "id": "3dabbfa1-089d-416b-b1eb-245ca598039e",
   "metadata": {},
   "outputs": [],
   "source": [
    "def plot_correff_timeseries(data, n_frames, names, *, from_time=0, until_time=100, plot_alpha=.5):\n",
    "    \n",
    "    fig, axs = plt.subplots(1,2, figsize=(4,2.2), dpi=150, sharey=True, gridspec_kw={\"wspace\":0, \"width_ratios\": [5,1]})\n",
    "    \n",
    "    quantiles = nanquantile(data, [.05, .25, .5, .75, .95], axis=(0,2))\n",
    "    \n",
    "    # FIRST AXIS\n",
    "    ax = axs[0]\n",
    "    ax.grid(True, \"major\", \"both\", color=\"k\", linestyle=\":\", linewidth=.5, alpha=.5)\n",
    "    # Plot quantiles\n",
    "    for yvals, lstyle, lwidth in zip(quantiles, *five_props):\n",
    "        ax.plot(n_frames, yvals, linewidth=lwidth, color=\"k\", linestyle=lstyle, zorder=10)\n",
    "    # Plot correlation coefficient time series\n",
    "    for pname, yvals in zip(names, data):\n",
    "        c1, c2 = AMINO_ACID_COLORS[pname[2:5]], AMINO_ACID_COLORS[pname[-5:-2]]\n",
    "        ax.plot(n_frames, yvals, color=c1, linewidth=.8, linestyle=\"-\", marker=\"p\", markersize=1, alpha=plot_alpha)\n",
    "    ax.set_xlim([from_time, until_time])\n",
    "    ax.set_xticks(np.arange(from_time, until_time+1, 200))\n",
    "    ax.set_xticks(np.arange(from_time, until_time+1,  50), minor=True)\n",
    "    ax.set_xlabel(\"Simulation time [ns]\")\n",
    "    ax.set_yticks(np.arange(-.2, 1.1, .2))\n",
    "    ax.set_ylabel(\"Pearson's $r$\")\n",
    "    \n",
    "    # SECOND AXIS\n",
    "    ax = axs[1]\n",
    "    ax.axis(\"off\") #ax.grid(True, \"major\", \"both\", color=\"k\", linestyle=\":\", linewidth=.5, alpha=.5)\n",
    "    final_values = get_final_corref(data).flatten()\n",
    "    kde = gaussian_kde(final_values)\n",
    "    yvals = np.linspace(np.min(final_values), np.max(final_values), 100)\n",
    "    xvals = kde(yvals)\n",
    "    ax.fill_betweenx(yvals, 0, xvals, linewidth=.8, color=\"#3232aa\", alpha=.3)\n",
    "    ax.plot(xvals, yvals, linewidth=.8, color=\"#3232aa\")\n",
    "    # for yvals, lstyle, lwidth in zip(quantiles, *five_props):\n",
    "    #     ax.axhline(yvals[-1], linewidth=lwidth, color=\"k\", linestyle=lstyle, zorder=10)\n",
    "    \n",
    "    return fig, axs"
   ]
  },
  {
   "cell_type": "code",
   "execution_count": null,
   "id": "06a2aa0a-285c-4b81-bec5-880dff85401f",
   "metadata": {},
   "outputs": [],
   "source": [
    "def format_peptides(peptide_name):\n",
    "    out = []\n",
    "    gen = (c for c in peptide_name)\n",
    "    for c in gen:\n",
    "        if c == \"g\":\n",
    "            out.append(\"<small>G</small>\")\n",
    "        else:\n",
    "            c += next(gen) + next(gen)\n",
    "            out.append(\n",
    "                f\"<b>{c.capitalize()}</b>\")\n",
    "    return \"\".join(out)\n",
    "\n",
    "data, nfrm, names = read_replica_correff(sorted(glob.glob(\"../*peptides/gg*gg/analy/replica_correff8.dat\")))\n",
    "final_values = get_final_corref(data)\n",
    "\n",
    "df = pd.DataFrame({\n",
    "    \"Peptide\": map(format_peptides, names),\n",
    "    \"rreplica(1,2)\" : final_values[:,0], \n",
    "    \"rreplica(1,3)\" : final_values[:,1],\n",
    "    \"rreplica(1,4)\" : final_values[:,2],\n",
    "    \"rreplica(2,3)\" : final_values[:,3],\n",
    "    \"rreplica(2,4)\" : final_values[:,4],\n",
    "    \"rreplica(3,4)\" : final_values[:,5],\n",
    "    \"Median\": np.median(final_values, axis=1),\n",
    "})\n",
    "df.to_csv(\"rreplica_table8.tsv\", float_format=\"%.3f\", sep=\"\\t\")"
   ]
  },
  {
   "cell_type": "code",
   "execution_count": null,
   "id": "da9226cd-d4a9-42a0-a135-d258af284925",
   "metadata": {},
   "outputs": [],
   "source": [
    "# Axes Peptide, n_frames, replicas\n",
    "from_time, until_time = 0, 1109\n",
    "data5, nfrm5, names5 = read_replica_correff(sorted(glob.glob(\"../5peptides/gg*gg/analy/replica_correff8.dat\")))\n",
    "nfrm5 *= .02\n",
    "\n",
    "fig, axs = plot_correff_timeseries(data5, nfrm5, names5, from_time=from_time, until_time=until_time)\n",
    "#fig.savefig(f\"figures/correff_5_{from_time:.0f}-{until_time:.0f}.png\", dpi=300, bbox_inches=\"tight\")"
   ]
  },
  {
   "cell_type": "markdown",
   "id": "6f12c004-77ee-4937-8600-f47bead099c4",
   "metadata": {
    "tags": []
   },
   "source": [
    "# 6 peptides"
   ]
  },
  {
   "cell_type": "code",
   "execution_count": null,
   "id": "b1c8a8c4",
   "metadata": {},
   "outputs": [],
   "source": [
    "# Axes Peptide, n_frames, replicas\n",
    "from_time, until_time = 0, 909.\n",
    "data6, nfrm6, names6 = read_replica_correff(sorted(glob.glob(\"../6peptides/gg*gg/analy/replica_correff8.dat\")))\n",
    "nfrm6 *= .02\n",
    "\n",
    "fig, axs = plot_correff_timeseries(data6, nfrm6, names6, from_time=from_time, until_time=until_time, plot_alpha=.25)\n",
    "#fig.savefig(f\"figures/correff_6_{from_time:.0f}-{until_time:.0f}.png\", dpi=300, bbox_inches=\"tight\")"
   ]
  },
  {
   "cell_type": "markdown",
   "id": "f7149e4b-a705-43cd-9eef-2c2eae0a4108",
   "metadata": {},
   "source": [
    "# 7 peptides"
   ]
  },
  {
   "cell_type": "code",
   "execution_count": null,
   "id": "11046d41",
   "metadata": {},
   "outputs": [],
   "source": [
    "# Axes Peptide, n_frames, replicas\n",
    "from_time, until_time  = 0., 909.\n",
    "data7, nfrm7, names7 = read_replica_correff(sorted(glob.glob(\"../7peptides/gg*gg/analy/replica_correff8.dat\")))\n",
    "nfrm7 *= .02\n",
    "\n",
    "fig, axs = plot_correff_timeseries(data7, nfrm7, names7, from_time=from_time, until_time=until_time, plot_alpha=.25)\n",
    "fig.savefig(f\"figures/correff_7_{from_time:.0f}-{until_time:.0f}.png\", dpi=300, bbox_inches=\"tight\")"
   ]
  },
  {
   "cell_type": "markdown",
   "id": "99443224-cd69-447e-a4e6-dce628f1b0be",
   "metadata": {},
   "source": [
    "# 8 peptides"
   ]
  },
  {
   "cell_type": "code",
   "execution_count": null,
   "id": "b09df749",
   "metadata": {},
   "outputs": [],
   "source": [
    "# Axes Peptide, n_frames, replicas\n",
    "from_time, until_time = 0., 909.\n",
    "data8, nfrm8, names8 = read_replica_correff(sorted(glob.glob(\"../8peptides/gg*gg/analy/replica_correff8.dat\")))\n",
    "nfrm8 *= .02\n",
    "\n",
    "fig, axs = plot_correff_timeseries(data8, nfrm8, names8, from_time=from_time, until_time=until_time, plot_alpha=.25)\n",
    "fig.savefig(f\"figures/correff_8_{from_time:.0f}-{until_time:.0f}.png\", dpi=300, bbox_inches=\"tight\")"
   ]
  },
  {
   "cell_type": "markdown",
   "id": "b2b8c731-a81f-474a-ab0c-4a291e25e034",
   "metadata": {},
   "source": [
    "# 9 peptides"
   ]
  },
  {
   "cell_type": "code",
   "execution_count": null,
   "id": "1a440c70",
   "metadata": {},
   "outputs": [],
   "source": [
    "# Axes Peptide, n_frames, replicas\n",
    "from_time, until_time = 0., 709.\n",
    "data9, nfrm9, names9 = read_replica_correff(sorted(glob.glob(\"../9peptides/gg*gg/analy/replica_correff8.dat\")))\n",
    "nfrm9 *= .02\n",
    "\n",
    "fig, axs = plot_correff_timeseries(data9, nfrm9, names9, from_time=from_time, until_time=until_time, plot_alpha=.25)\n",
    "fig.savefig(f\"figures/correff_9_{from_time:.0f}-{until_time:.0f}.png\", dpi=300, bbox_inches=\"tight\")"
   ]
  },
  {
   "cell_type": "markdown",
   "id": "f2e512d7-9626-4410-9876-5e81be31ef9e",
   "metadata": {},
   "source": [
    "# All peptides"
   ]
  },
  {
   "cell_type": "code",
   "execution_count": null,
   "id": "e3783b4d-fe44-42b6-ae40-b2dff4561526",
   "metadata": {},
   "outputs": [],
   "source": [
    "# vub blue: #00339F\n",
    "properties = {\n",
    "    \"boxprops\" : {\n",
    "        \"color\": \"k\"},\n",
    "    \"medianprops\": {\n",
    "        \"color\": \"#FF6600\"},\n",
    "    \"whiskerprops\": {\n",
    "        \"color\": \"k\"},\n",
    "    \"capprops\": {\n",
    "        \"color\": \"k\"},\n",
    "    \"flierprops\": {\n",
    "        \"marker\": \"_\",\n",
    "        \"markersize\": 2,\n",
    "        \"markeredgecolor\": \"k\",}\n",
    "        \n",
    "}\n",
    "\n",
    "box_data = [\n",
    "    get_final_corref(data).flatten() for data in (data5, data6, data7, data8, data9)\n",
    "]\n",
    "\n",
    "fig, ax = plt.subplots(1,1, figsize=(3,3), dpi=96)\n",
    "ax.grid(True, \"major\", \"y\", color=\"k\", linewidth=.5, linestyle=\"--\", alpha=.3)\n",
    "ax.boxplot(box_data, **properties)\n",
    "ax.set_xticklabels([5,6,7,8, 9])\n",
    "ax.set_xlabel(\"Peptide length\")\n",
    "ax.set_ylabel(\"Final correlation coefficient\")\n",
    "ax.plot()\n",
    "\n",
    "fig.savefig(f\"figures/correff_boxplot.png\", dpi=300, bbox_inches=\"tight\")"
   ]
  }
 ],
 "metadata": {
  "kernelspec": {
   "display_name": "Python 3 (ipykernel)",
   "language": "python",
   "name": "python3"
  },
  "language_info": {
   "codemirror_mode": {
    "name": "ipython",
    "version": 3
   },
   "file_extension": ".py",
   "mimetype": "text/x-python",
   "name": "python",
   "nbconvert_exporter": "python",
   "pygments_lexer": "ipython3",
   "version": "3.10.4"
  }
 },
 "nbformat": 4,
 "nbformat_minor": 5
}
